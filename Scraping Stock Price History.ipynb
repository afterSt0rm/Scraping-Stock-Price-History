{
 "cells": [
  {
   "cell_type": "code",
   "execution_count": 1,
   "id": "0832abff-c7ba-4ef9-b2fd-91bafef9745d",
   "metadata": {},
   "outputs": [],
   "source": [
    "# Import the scrape_price_history function from the price_history_scraper module\n",
    "from price_history_scraper import scrape_price_history\n",
    "import pandas as pd"
   ]
  },
  {
   "cell_type": "markdown",
   "id": "9599c274-ced1-41f4-b3fd-3aca45a604de",
   "metadata": {},
   "source": [
    "## 1. Chhimek Laghubitta Bittiya Sanstha Limited ( CBBL )"
   ]
  },
  {
   "cell_type": "code",
   "execution_count": 2,
   "id": "36952ab1-a265-4773-b93d-933a716c7b37",
   "metadata": {},
   "outputs": [],
   "source": [
    "# Define the url to scrape price history data from\n",
    "url = \"https://www.sharesansar.com/company/cbbl\"\n",
    "\n",
    "# Call the scrape_price_history function to fetch the data\n",
    "cbbl_price_history = scrape_price_history(url)"
   ]
  },
  {
   "cell_type": "code",
   "execution_count": 3,
   "id": "fe790e00-c8b9-485a-97c0-0fd758edf9fc",
   "metadata": {},
   "outputs": [],
   "source": [
    "# Create a DataFrame to store the scraped price history data\n",
    "cbbl_df = pd.DataFrame({\n",
    "    \"Date\" : cbbl_price_history[0],\n",
    "    \"Open\" : cbbl_price_history[1],\n",
    "    \"High\" : cbbl_price_history[2],\n",
    "    \"Low\" : cbbl_price_history[3],\n",
    "    \"Ltp\" : cbbl_price_history[4],\n",
    "    \"% Change\" : cbbl_price_history[5],\n",
    "    \"Qty\" : cbbl_price_history[6],\n",
    "    \"Turnover\" : cbbl_price_history[7]\n",
    "})"
   ]
  },
  {
   "cell_type": "markdown",
   "id": "8f0c3e0a-f5c7-4d9c-9993-0e4c530dc791",
   "metadata": {},
   "source": [
    "## 2. Nabil Bank Limited ( NABIL )"
   ]
  },
  {
   "cell_type": "code",
   "execution_count": 4,
   "id": "7dc7b32e-cdd9-4951-8370-fb4902effd7b",
   "metadata": {},
   "outputs": [],
   "source": [
    "# Define the url to scrape price history data from\n",
    "url = \"https://www.sharesansar.com/company/nabil\"\n",
    "\n",
    "# Call the scrape_price_history function to fetch the data\n",
    "nabil_price_history = scrape_price_history(url)"
   ]
  },
  {
   "cell_type": "code",
   "execution_count": 5,
   "id": "ba570b0a-b8c0-472e-83aa-66132c048e7c",
   "metadata": {},
   "outputs": [],
   "source": [
    "# Create a DataFrame to store the scraped price history data\n",
    "nabil_df = pd.DataFrame({\n",
    "    \"Date\" : nabil_price_history[0],\n",
    "    \"Open\" : nabil_price_history[1],\n",
    "    \"High\" : nabil_price_history[2],\n",
    "    \"Low\" : nabil_price_history[3],\n",
    "    \"Ltp\" : nabil_price_history[4],\n",
    "    \"% Change\" : nabil_price_history[5],\n",
    "    \"Qty\" : nabil_price_history[6],\n",
    "    \"Turnover\" : nabil_price_history[7]\n",
    "})"
   ]
  },
  {
   "cell_type": "markdown",
   "id": "cca5a444-306b-4b81-b5ca-da235e446c1e",
   "metadata": {},
   "source": [
    "## 3. Prabhu Life Insurance Limited ( PLI )"
   ]
  },
  {
   "cell_type": "code",
   "execution_count": 6,
   "id": "3d8c37fe-4a32-4f21-bd82-16a979f49995",
   "metadata": {},
   "outputs": [],
   "source": [
    "# Define the url to scrape price history data from\n",
    "url = \"https://www.sharesansar.com/company/pli\"\n",
    "\n",
    "# Call the scrape_price_history function to fetch the data\n",
    "prabhu_life_price_history = scrape_price_history(url)"
   ]
  },
  {
   "cell_type": "code",
   "execution_count": 7,
   "id": "bd2e9536-bb72-4492-8584-fc9cf488961a",
   "metadata": {},
   "outputs": [],
   "source": [
    "# Create a DataFrame to store the scraped price history data\n",
    "prabhu_life_df = pd.DataFrame({\n",
    "    \"Date\" : prabhu_life_price_history[0],\n",
    "    \"Open\" : prabhu_life_price_history[1],\n",
    "    \"High\" : prabhu_life_price_history[2],\n",
    "    \"Low\" : prabhu_life_price_history[3],\n",
    "    \"Ltp\" : prabhu_life_price_history[4],\n",
    "    \"% Change\" : prabhu_life_price_history[5],\n",
    "    \"Qty\" : prabhu_life_price_history[6],\n",
    "    \"Turnover\" : prabhu_life_price_history[7]\n",
    "})"
   ]
  },
  {
   "cell_type": "markdown",
   "id": "02953d51-4e1e-4be5-a65b-009ac1f6cc63",
   "metadata": {},
   "source": [
    "## 4. Shivam Cements Limited ( SHIVM )"
   ]
  },
  {
   "cell_type": "code",
   "execution_count": 8,
   "id": "9762bb17-857f-40fc-b48b-e2d2f39a08c0",
   "metadata": {},
   "outputs": [],
   "source": [
    "# Define the url to scrape price history data from\n",
    "url = \"https://www.sharesansar.com/company/shivm\"\n",
    "\n",
    "# Call the scrape_price_history function to fetch the data\n",
    "shivam_price_history = scrape_price_history(url)"
   ]
  },
  {
   "cell_type": "code",
   "execution_count": 9,
   "id": "30296db1-9241-4366-b01e-15ff481c3ad0",
   "metadata": {},
   "outputs": [],
   "source": [
    "# Create a DataFrame to store the scraped price history data\n",
    "shivam_df = pd.DataFrame({\n",
    "    \"Date\" : shivam_price_history[0],\n",
    "    \"Open\" : shivam_price_history[1],\n",
    "    \"High\" : shivam_price_history[2],\n",
    "    \"Low\" : shivam_price_history[3],\n",
    "    \"Ltp\" : shivam_price_history[4],\n",
    "    \"% Change\" : shivam_price_history[5],\n",
    "    \"Qty\" : shivam_price_history[6],\n",
    "    \"Turnover\" : shivam_price_history[7]\n",
    "})"
   ]
  },
  {
   "cell_type": "markdown",
   "id": "b5fc1591-cc8d-4575-8175-a2457bf4e39c",
   "metadata": {},
   "source": [
    "## 5. National Hydro Power Company Limited ( NHPC )"
   ]
  },
  {
   "cell_type": "code",
   "execution_count": 10,
   "id": "83ed5e92-8a9f-4d2e-854f-e2722682f1b9",
   "metadata": {},
   "outputs": [],
   "source": [
    "# Define the url to scrape price history data from\n",
    "url = \"https://www.sharesansar.com/company/nhpc\"\n",
    "\n",
    "# Call the scrape_price_history function to fetch the data\n",
    "national_price_history = scrape_price_history(url)"
   ]
  },
  {
   "cell_type": "code",
   "execution_count": 11,
   "id": "bb9f1c72-b64a-4bb1-abb6-e1c422864a75",
   "metadata": {},
   "outputs": [],
   "source": [
    "# Create a DataFrame to store the scraped price history data\n",
    "national_df = pd.DataFrame({\n",
    "    \"Date\" : national_price_history[0],\n",
    "    \"Open\" : national_price_history[1],\n",
    "    \"High\" : national_price_history[2],\n",
    "    \"Low\" : national_price_history[3],\n",
    "    \"Ltp\" : national_price_history[4],\n",
    "    \"% Change\" : national_price_history[5],\n",
    "    \"Qty\" : national_price_history[6],\n",
    "    \"Turnover\" : national_price_history[7]\n",
    "})"
   ]
  }
 ],
 "metadata": {
  "kernelspec": {
   "display_name": "Python 3 (ipykernel)",
   "language": "python",
   "name": "python3"
  },
  "language_info": {
   "codemirror_mode": {
    "name": "ipython",
    "version": 3
   },
   "file_extension": ".py",
   "mimetype": "text/x-python",
   "name": "python",
   "nbconvert_exporter": "python",
   "pygments_lexer": "ipython3",
   "version": "3.11.4"
  }
 },
 "nbformat": 4,
 "nbformat_minor": 5
}

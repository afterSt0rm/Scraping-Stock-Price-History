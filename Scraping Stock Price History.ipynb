{
 "cells": [
  {
   "cell_type": "code",
   "execution_count": 1,
   "id": "0832abff-c7ba-4ef9-b2fd-91bafef9745d",
   "metadata": {},
   "outputs": [],
   "source": [
    "# Import the scrape_price_history function from the price_history_scraper module\n",
    "from price_history_scraper import scrape_price_history\n",
    "import pandas as pd"
   ]
  },
  {
   "cell_type": "markdown",
   "id": "9599c274-ced1-41f4-b3fd-3aca45a604de",
   "metadata": {},
   "source": [
    "## 1. Chhimek Laghubitta Bittiya Sanstha Limited ( CBBL )"
   ]
  },
  {
   "cell_type": "code",
   "execution_count": 2,
   "id": "36952ab1-a265-4773-b93d-933a716c7b37",
   "metadata": {},
   "outputs": [],
   "source": [
    "# Define the url to scrape price history data from\n",
    "url = \"https://www.sharesansar.com/company/cbbl\"\n",
    "\n",
    "# Call the scrape_price_history function to fetch the data\n",
    "cbbl_price_history = scrape_price_history(url)"
   ]
  },
  {
   "cell_type": "code",
   "execution_count": 3,
   "id": "fe790e00-c8b9-485a-97c0-0fd758edf9fc",
   "metadata": {},
   "outputs": [],
   "source": [
    "# Create a DataFrame to store the scraped price history data\n",
    "cbbl_df = pd.DataFrame({\n",
    "    \"Date\" : cbbl_price_history[0],\n",
    "    \"Open\" : cbbl_price_history[1],\n",
    "    \"High\" : cbbl_price_history[2],\n",
    "    \"Low\" : cbbl_price_history[3],\n",
    "    \"Ltp\" : cbbl_price_history[4],\n",
    "    \"% Change\" : cbbl_price_history[5],\n",
    "    \"Qty\" : cbbl_price_history[6],\n",
    "    \"Turnover\" : cbbl_price_history[7]\n",
    "})"
   ]
  },
  {
   "cell_type": "code",
   "execution_count": 12,
   "id": "2e406afe-a785-458f-9a98-2a39a1df4685",
   "metadata": {},
   "outputs": [
    {
     "data": {
      "text/plain": [
       "(2557, 8)"
      ]
     },
     "execution_count": 12,
     "metadata": {},
     "output_type": "execute_result"
    }
   ],
   "source": [
    "# Check the shape of the dataframe\n",
    "cbbl_df.shape"
   ]
  },
  {
   "cell_type": "code",
   "execution_count": 13,
   "id": "1cc1e238-1b23-4390-b288-afbe9fe8913f",
   "metadata": {},
   "outputs": [
    {
     "data": {
      "text/html": [
       "<div>\n",
       "<style scoped>\n",
       "    .dataframe tbody tr th:only-of-type {\n",
       "        vertical-align: middle;\n",
       "    }\n",
       "\n",
       "    .dataframe tbody tr th {\n",
       "        vertical-align: top;\n",
       "    }\n",
       "\n",
       "    .dataframe thead th {\n",
       "        text-align: right;\n",
       "    }\n",
       "</style>\n",
       "<table border=\"1\" class=\"dataframe\">\n",
       "  <thead>\n",
       "    <tr style=\"text-align: right;\">\n",
       "      <th></th>\n",
       "      <th>Date</th>\n",
       "      <th>Open</th>\n",
       "      <th>High</th>\n",
       "      <th>Low</th>\n",
       "      <th>Ltp</th>\n",
       "      <th>% Change</th>\n",
       "      <th>Qty</th>\n",
       "      <th>Turnover</th>\n",
       "    </tr>\n",
       "  </thead>\n",
       "  <tbody>\n",
       "    <tr>\n",
       "      <th>0</th>\n",
       "      <td>2023-09-07</td>\n",
       "      <td>958.00</td>\n",
       "      <td>958.00</td>\n",
       "      <td>944.00</td>\n",
       "      <td>945.00</td>\n",
       "      <td>-0.63</td>\n",
       "      <td>8,180.00</td>\n",
       "      <td>7,742,683.60</td>\n",
       "    </tr>\n",
       "    <tr>\n",
       "      <th>1</th>\n",
       "      <td>2023-09-05</td>\n",
       "      <td>958.00</td>\n",
       "      <td>959.90</td>\n",
       "      <td>950.00</td>\n",
       "      <td>951.00</td>\n",
       "      <td>-0.73</td>\n",
       "      <td>5,837.00</td>\n",
       "      <td>5,561,731.30</td>\n",
       "    </tr>\n",
       "    <tr>\n",
       "      <th>2</th>\n",
       "      <td>2023-09-04</td>\n",
       "      <td>959.00</td>\n",
       "      <td>965.00</td>\n",
       "      <td>942.00</td>\n",
       "      <td>958.00</td>\n",
       "      <td>0.95</td>\n",
       "      <td>6,912.00</td>\n",
       "      <td>6,568,353.20</td>\n",
       "    </tr>\n",
       "    <tr>\n",
       "      <th>3</th>\n",
       "      <td>2023-09-03</td>\n",
       "      <td>953.00</td>\n",
       "      <td>959.00</td>\n",
       "      <td>947.00</td>\n",
       "      <td>949.00</td>\n",
       "      <td>-0.42</td>\n",
       "      <td>9,829.00</td>\n",
       "      <td>9,354,692.90</td>\n",
       "    </tr>\n",
       "    <tr>\n",
       "      <th>4</th>\n",
       "      <td>2023-08-30</td>\n",
       "      <td>950.00</td>\n",
       "      <td>959.00</td>\n",
       "      <td>949.00</td>\n",
       "      <td>953.00</td>\n",
       "      <td>0.00</td>\n",
       "      <td>7,704.00</td>\n",
       "      <td>7,338,383.20</td>\n",
       "    </tr>\n",
       "  </tbody>\n",
       "</table>\n",
       "</div>"
      ],
      "text/plain": [
       "         Date    Open    High     Low     Ltp % Change       Qty      Turnover\n",
       "0  2023-09-07  958.00  958.00  944.00  945.00    -0.63  8,180.00  7,742,683.60\n",
       "1  2023-09-05  958.00  959.90  950.00  951.00    -0.73  5,837.00  5,561,731.30\n",
       "2  2023-09-04  959.00  965.00  942.00  958.00     0.95  6,912.00  6,568,353.20\n",
       "3  2023-09-03  953.00  959.00  947.00  949.00    -0.42  9,829.00  9,354,692.90\n",
       "4  2023-08-30  950.00  959.00  949.00  953.00     0.00  7,704.00  7,338,383.20"
      ]
     },
     "execution_count": 13,
     "metadata": {},
     "output_type": "execute_result"
    }
   ],
   "source": [
    "# Show the first five rows of dataframe\n",
    "cbbl_df.head()"
   ]
  },
  {
   "cell_type": "code",
   "execution_count": 14,
   "id": "e7b50bf1-0fad-4a38-99d3-4445507ad74d",
   "metadata": {},
   "outputs": [
    {
     "name": "stdout",
     "output_type": "stream",
     "text": [
      "<class 'pandas.core.frame.DataFrame'>\n",
      "RangeIndex: 2557 entries, 0 to 2556\n",
      "Data columns (total 8 columns):\n",
      " #   Column    Non-Null Count  Dtype \n",
      "---  ------    --------------  ----- \n",
      " 0   Date      2557 non-null   object\n",
      " 1   Open      2557 non-null   object\n",
      " 2   High      2557 non-null   object\n",
      " 3   Low       2557 non-null   object\n",
      " 4   Ltp       2557 non-null   object\n",
      " 5   % Change  2557 non-null   object\n",
      " 6   Qty       2557 non-null   object\n",
      " 7   Turnover  2557 non-null   object\n",
      "dtypes: object(8)\n",
      "memory usage: 159.9+ KB\n"
     ]
    }
   ],
   "source": [
    "# Show the information about DataFrame\n",
    "cbbl_df.info()"
   ]
  },
  {
   "cell_type": "markdown",
   "id": "26e60feb-4f95-4cc7-82b1-ad38e2abe3d4",
   "metadata": {},
   "source": [
    "### <br/> It seems that all the columns have string data type. So, it is necessary to preprocess these <br/> <br/> columns to suitable data types. <br/>"
   ]
  },
  {
   "cell_type": "code",
   "execution_count": 15,
   "id": "7051a283-7357-4971-b8a6-e5cded4dd4ab",
   "metadata": {},
   "outputs": [
    {
     "data": {
      "text/plain": [
       "Date        0\n",
       "Open        0\n",
       "High        0\n",
       "Low         0\n",
       "Ltp         0\n",
       "% Change    0\n",
       "Qty         0\n",
       "Turnover    0\n",
       "dtype: int64"
      ]
     },
     "execution_count": 15,
     "metadata": {},
     "output_type": "execute_result"
    }
   ],
   "source": [
    "# Check null values in DataFrame\n",
    "cbbl_df.isnull().sum()"
   ]
  },
  {
   "cell_type": "code",
   "execution_count": 16,
   "id": "2c26d9ef-2df9-4c69-9567-e44fb591f6fc",
   "metadata": {},
   "outputs": [],
   "source": [
    "# Convert the 'Date' column to datetime objects\n",
    "cbbl_df['Date'] = pd.to_datetime(cbbl_df['Date'])"
   ]
  },
  {
   "cell_type": "code",
   "execution_count": 17,
   "id": "e85a23ab-fce9-47fb-a39e-06ec1aa34b3c",
   "metadata": {},
   "outputs": [
    {
     "name": "stdout",
     "output_type": "stream",
     "text": [
      "<class 'pandas.core.frame.DataFrame'>\n",
      "RangeIndex: 2557 entries, 0 to 2556\n",
      "Data columns (total 8 columns):\n",
      " #   Column    Non-Null Count  Dtype         \n",
      "---  ------    --------------  -----         \n",
      " 0   Date      2557 non-null   datetime64[ns]\n",
      " 1   Open      2557 non-null   object        \n",
      " 2   High      2557 non-null   object        \n",
      " 3   Low       2557 non-null   object        \n",
      " 4   Ltp       2557 non-null   object        \n",
      " 5   % Change  2557 non-null   object        \n",
      " 6   Qty       2557 non-null   object        \n",
      " 7   Turnover  2557 non-null   object        \n",
      "dtypes: datetime64[ns](1), object(7)\n",
      "memory usage: 159.9+ KB\n"
     ]
    }
   ],
   "source": [
    "cbbl_df.info()"
   ]
  },
  {
   "cell_type": "code",
   "execution_count": 18,
   "id": "125068ed-3328-4385-994c-775a90a26d75",
   "metadata": {},
   "outputs": [
    {
     "data": {
      "text/plain": [
       "Open\n",
       "900.00      24\n",
       "1,000.00    23\n",
       "980.00      20\n",
       "1,600.00    18\n",
       "870.00      18\n",
       "            ..\n",
       "217.00       1\n",
       "207.00       1\n",
       "843.00       1\n",
       "811.00       1\n",
       "787.00       1\n",
       "Name: count, Length: 1082, dtype: int64"
      ]
     },
     "execution_count": 18,
     "metadata": {},
     "output_type": "execute_result"
    }
   ],
   "source": [
    "# Count the frequency of unique values in the 'Open' column\n",
    "cbbl_df['Open'].value_counts()"
   ]
  },
  {
   "cell_type": "code",
   "execution_count": 19,
   "id": "06b09899-d211-4809-ba58-1c749086d62a",
   "metadata": {},
   "outputs": [
    {
     "data": {
      "text/plain": [
       "High\n",
       "970.00      22\n",
       "900.00      19\n",
       "1,000.00    17\n",
       "1,600.00    16\n",
       "1,100.00    16\n",
       "            ..\n",
       "481.00       1\n",
       "509.00       1\n",
       "519.00       1\n",
       "529.00       1\n",
       "530.00       1\n",
       "Name: count, Length: 1076, dtype: int64"
      ]
     },
     "execution_count": 19,
     "metadata": {},
     "output_type": "execute_result"
    }
   ],
   "source": [
    "cbbl_df['High'].value_counts()"
   ]
  },
  {
   "cell_type": "code",
   "execution_count": 20,
   "id": "cd12c125-c2ae-4761-a900-543b76af8235",
   "metadata": {},
   "outputs": [
    {
     "data": {
      "text/plain": [
       "Low\n",
       "1,000.00    24\n",
       "890.00      20\n",
       "990.00      17\n",
       "1,600.00    17\n",
       "970.00      17\n",
       "            ..\n",
       "908.00       1\n",
       "937.00       1\n",
       "921.00       1\n",
       "1,636.00     1\n",
       "1,003.00     1\n",
       "Name: count, Length: 1077, dtype: int64"
      ]
     },
     "execution_count": 20,
     "metadata": {},
     "output_type": "execute_result"
    }
   ],
   "source": [
    "cbbl_df['Low'].value_counts()"
   ]
  },
  {
   "cell_type": "code",
   "execution_count": 21,
   "id": "0be9f4b0-8c7e-4fb5-b8ac-da23e7cca4a0",
   "metadata": {},
   "outputs": [
    {
     "data": {
      "text/plain": [
       "Ltp\n",
       "900.00      18\n",
       "980.00      16\n",
       "1,000.00    16\n",
       "1,600.00    15\n",
       "970.00      14\n",
       "            ..\n",
       "1,566.00     1\n",
       "1,556.00     1\n",
       "1,604.00     1\n",
       "1,521.00     1\n",
       "1,232.00     1\n",
       "Name: count, Length: 1148, dtype: int64"
      ]
     },
     "execution_count": 21,
     "metadata": {},
     "output_type": "execute_result"
    }
   ],
   "source": [
    "cbbl_df['Ltp'].value_counts()"
   ]
  },
  {
   "cell_type": "code",
   "execution_count": 22,
   "id": "50da45bf-a9fc-4c2a-a4ff-a88aee6654d2",
   "metadata": {},
   "outputs": [
    {
     "data": {
      "text/plain": [
       "Qty\n",
       "100.00       20\n",
       "10.00        18\n",
       "200.00       12\n",
       "20.00        11\n",
       "50.00         9\n",
       "             ..\n",
       "31,908.00     1\n",
       "30,455.00     1\n",
       "4,586.00      1\n",
       "8,715.00      1\n",
       "15,269.00     1\n",
       "Name: count, Length: 2142, dtype: int64"
      ]
     },
     "execution_count": 22,
     "metadata": {},
     "output_type": "execute_result"
    }
   ],
   "source": [
    "cbbl_df['Qty'].value_counts()"
   ]
  },
  {
   "cell_type": "code",
   "execution_count": 23,
   "id": "486a91db-7ef2-46ca-aa0b-31052697a3d7",
   "metadata": {},
   "outputs": [
    {
     "data": {
      "text/plain": [
       "Turnover\n",
       "0.00             98\n",
       "19,125.00         2\n",
       "29,046.00         2\n",
       "1,309,600.00      2\n",
       "74,500.00         2\n",
       "                 ..\n",
       "17,184,112.00     1\n",
       "8,272,075.00      1\n",
       "12,131,078.00     1\n",
       "15,088,951.00     1\n",
       "13,078,832.00     1\n",
       "Name: count, Length: 2454, dtype: int64"
      ]
     },
     "execution_count": 23,
     "metadata": {},
     "output_type": "execute_result"
    }
   ],
   "source": [
    "cbbl_df['Turnover'].value_counts()"
   ]
  },
  {
   "cell_type": "markdown",
   "id": "c48f3f56-bb8b-4231-8b05-fb50788ff2cd",
   "metadata": {},
   "source": [
    "### <br/> It can be observed that the columns have comma in the numerical values. These commas should <br/> <br/> be removed before converting these columns to numerical data types. <br/>"
   ]
  },
  {
   "cell_type": "code",
   "execution_count": 24,
   "id": "20cf653e-cab3-4db9-99bc-4d1d2c90ff60",
   "metadata": {},
   "outputs": [
    {
     "data": {
      "text/plain": [
       "Index(['Date', 'Open', 'High', 'Low', 'Ltp', '% Change', 'Qty', 'Turnover'], dtype='object')"
      ]
     },
     "execution_count": 24,
     "metadata": {},
     "output_type": "execute_result"
    }
   ],
   "source": [
    "cbbl_df.columns"
   ]
  },
  {
   "cell_type": "code",
   "execution_count": 25,
   "id": "ac1028a5-414e-4b1d-8da7-7d786a4738c0",
   "metadata": {},
   "outputs": [],
   "source": [
    "# columns with comma in numerical values\n",
    "cols_comma_values = ['Open', 'High', 'Low', 'Ltp', 'Qty', 'Turnover']\n",
    "\n",
    "for col in cols_comma_values:\n",
    "    # Remove commas and convert the column to float data type\n",
    "    cbbl_df[col] = cbbl_df[col].apply(lambda x: x.replace(\",\", \"\"))\n",
    "    cbbl_df[col] = cbbl_df[col].astype('float64')"
   ]
  },
  {
   "cell_type": "code",
   "execution_count": 26,
   "id": "5bb093df-58f7-4a27-9abf-f11f7898a444",
   "metadata": {},
   "outputs": [],
   "source": [
    "cbbl_df['% Change'] = cbbl_df['% Change'].astype('float64')"
   ]
  },
  {
   "cell_type": "code",
   "execution_count": 27,
   "id": "30313db6-9152-4e5c-884e-a12b37b6536b",
   "metadata": {},
   "outputs": [
    {
     "data": {
      "text/html": [
       "<div>\n",
       "<style scoped>\n",
       "    .dataframe tbody tr th:only-of-type {\n",
       "        vertical-align: middle;\n",
       "    }\n",
       "\n",
       "    .dataframe tbody tr th {\n",
       "        vertical-align: top;\n",
       "    }\n",
       "\n",
       "    .dataframe thead th {\n",
       "        text-align: right;\n",
       "    }\n",
       "</style>\n",
       "<table border=\"1\" class=\"dataframe\">\n",
       "  <thead>\n",
       "    <tr style=\"text-align: right;\">\n",
       "      <th></th>\n",
       "      <th>Date</th>\n",
       "      <th>Open</th>\n",
       "      <th>High</th>\n",
       "      <th>Low</th>\n",
       "      <th>Ltp</th>\n",
       "      <th>% Change</th>\n",
       "      <th>Qty</th>\n",
       "      <th>Turnover</th>\n",
       "    </tr>\n",
       "  </thead>\n",
       "  <tbody>\n",
       "    <tr>\n",
       "      <th>0</th>\n",
       "      <td>2023-09-07</td>\n",
       "      <td>958.0</td>\n",
       "      <td>958.0</td>\n",
       "      <td>944.0</td>\n",
       "      <td>945.0</td>\n",
       "      <td>-0.63</td>\n",
       "      <td>8180.0</td>\n",
       "      <td>7742683.6</td>\n",
       "    </tr>\n",
       "    <tr>\n",
       "      <th>1</th>\n",
       "      <td>2023-09-05</td>\n",
       "      <td>958.0</td>\n",
       "      <td>959.9</td>\n",
       "      <td>950.0</td>\n",
       "      <td>951.0</td>\n",
       "      <td>-0.73</td>\n",
       "      <td>5837.0</td>\n",
       "      <td>5561731.3</td>\n",
       "    </tr>\n",
       "    <tr>\n",
       "      <th>2</th>\n",
       "      <td>2023-09-04</td>\n",
       "      <td>959.0</td>\n",
       "      <td>965.0</td>\n",
       "      <td>942.0</td>\n",
       "      <td>958.0</td>\n",
       "      <td>0.95</td>\n",
       "      <td>6912.0</td>\n",
       "      <td>6568353.2</td>\n",
       "    </tr>\n",
       "    <tr>\n",
       "      <th>3</th>\n",
       "      <td>2023-09-03</td>\n",
       "      <td>953.0</td>\n",
       "      <td>959.0</td>\n",
       "      <td>947.0</td>\n",
       "      <td>949.0</td>\n",
       "      <td>-0.42</td>\n",
       "      <td>9829.0</td>\n",
       "      <td>9354692.9</td>\n",
       "    </tr>\n",
       "    <tr>\n",
       "      <th>4</th>\n",
       "      <td>2023-08-30</td>\n",
       "      <td>950.0</td>\n",
       "      <td>959.0</td>\n",
       "      <td>949.0</td>\n",
       "      <td>953.0</td>\n",
       "      <td>0.00</td>\n",
       "      <td>7704.0</td>\n",
       "      <td>7338383.2</td>\n",
       "    </tr>\n",
       "  </tbody>\n",
       "</table>\n",
       "</div>"
      ],
      "text/plain": [
       "        Date   Open   High    Low    Ltp  % Change     Qty   Turnover\n",
       "0 2023-09-07  958.0  958.0  944.0  945.0     -0.63  8180.0  7742683.6\n",
       "1 2023-09-05  958.0  959.9  950.0  951.0     -0.73  5837.0  5561731.3\n",
       "2 2023-09-04  959.0  965.0  942.0  958.0      0.95  6912.0  6568353.2\n",
       "3 2023-09-03  953.0  959.0  947.0  949.0     -0.42  9829.0  9354692.9\n",
       "4 2023-08-30  950.0  959.0  949.0  953.0      0.00  7704.0  7338383.2"
      ]
     },
     "execution_count": 27,
     "metadata": {},
     "output_type": "execute_result"
    }
   ],
   "source": [
    "cbbl_df.head()"
   ]
  },
  {
   "cell_type": "code",
   "execution_count": 28,
   "id": "f34412f1-6fc9-452d-9966-2d0892b9ad77",
   "metadata": {},
   "outputs": [
    {
     "name": "stdout",
     "output_type": "stream",
     "text": [
      "<class 'pandas.core.frame.DataFrame'>\n",
      "RangeIndex: 2557 entries, 0 to 2556\n",
      "Data columns (total 8 columns):\n",
      " #   Column    Non-Null Count  Dtype         \n",
      "---  ------    --------------  -----         \n",
      " 0   Date      2557 non-null   datetime64[ns]\n",
      " 1   Open      2557 non-null   float64       \n",
      " 2   High      2557 non-null   float64       \n",
      " 3   Low       2557 non-null   float64       \n",
      " 4   Ltp       2557 non-null   float64       \n",
      " 5   % Change  2557 non-null   float64       \n",
      " 6   Qty       2557 non-null   float64       \n",
      " 7   Turnover  2557 non-null   float64       \n",
      "dtypes: datetime64[ns](1), float64(7)\n",
      "memory usage: 159.9 KB\n"
     ]
    }
   ],
   "source": [
    "cbbl_df.info()"
   ]
  },
  {
   "cell_type": "code",
   "execution_count": 63,
   "id": "81f60640-c725-47d9-a60e-e461a30a6847",
   "metadata": {},
   "outputs": [],
   "source": [
    "# Export DataFrame to csv file\n",
    "cbbl_df.to_csv(\"Stock Price History/CBBL Stock Price History.csv\", index = False)"
   ]
  },
  {
   "cell_type": "markdown",
   "id": "8f0c3e0a-f5c7-4d9c-9993-0e4c530dc791",
   "metadata": {},
   "source": [
    "## 2. Nabil Bank Limited ( NABIL )"
   ]
  },
  {
   "cell_type": "code",
   "execution_count": 4,
   "id": "7dc7b32e-cdd9-4951-8370-fb4902effd7b",
   "metadata": {},
   "outputs": [],
   "source": [
    "# Define the url to scrape price history data from\n",
    "url = \"https://www.sharesansar.com/company/nabil\"\n",
    "\n",
    "# Call the scrape_price_history function to fetch the data\n",
    "nabil_price_history = scrape_price_history(url)"
   ]
  },
  {
   "cell_type": "code",
   "execution_count": 5,
   "id": "ba570b0a-b8c0-472e-83aa-66132c048e7c",
   "metadata": {},
   "outputs": [],
   "source": [
    "# Create a DataFrame to store the scraped price history data\n",
    "nabil_df = pd.DataFrame({\n",
    "    \"Date\" : nabil_price_history[0],\n",
    "    \"Open\" : nabil_price_history[1],\n",
    "    \"High\" : nabil_price_history[2],\n",
    "    \"Low\" : nabil_price_history[3],\n",
    "    \"Ltp\" : nabil_price_history[4],\n",
    "    \"% Change\" : nabil_price_history[5],\n",
    "    \"Qty\" : nabil_price_history[6],\n",
    "    \"Turnover\" : nabil_price_history[7]\n",
    "})"
   ]
  },
  {
   "cell_type": "code",
   "execution_count": 29,
   "id": "1321eaaf-a26c-419d-9e7c-ed7b1691e625",
   "metadata": {},
   "outputs": [
    {
     "data": {
      "text/plain": [
       "(2845, 8)"
      ]
     },
     "execution_count": 29,
     "metadata": {},
     "output_type": "execute_result"
    }
   ],
   "source": [
    "nabil_df.shape"
   ]
  },
  {
   "cell_type": "code",
   "execution_count": 30,
   "id": "bcdd5697-852c-49d2-a688-676354b17931",
   "metadata": {},
   "outputs": [
    {
     "data": {
      "text/html": [
       "<div>\n",
       "<style scoped>\n",
       "    .dataframe tbody tr th:only-of-type {\n",
       "        vertical-align: middle;\n",
       "    }\n",
       "\n",
       "    .dataframe tbody tr th {\n",
       "        vertical-align: top;\n",
       "    }\n",
       "\n",
       "    .dataframe thead th {\n",
       "        text-align: right;\n",
       "    }\n",
       "</style>\n",
       "<table border=\"1\" class=\"dataframe\">\n",
       "  <thead>\n",
       "    <tr style=\"text-align: right;\">\n",
       "      <th></th>\n",
       "      <th>Date</th>\n",
       "      <th>Open</th>\n",
       "      <th>High</th>\n",
       "      <th>Low</th>\n",
       "      <th>Ltp</th>\n",
       "      <th>% Change</th>\n",
       "      <th>Qty</th>\n",
       "      <th>Turnover</th>\n",
       "    </tr>\n",
       "  </thead>\n",
       "  <tbody>\n",
       "    <tr>\n",
       "      <th>0</th>\n",
       "      <td>2023-09-07</td>\n",
       "      <td>585.00</td>\n",
       "      <td>585.00</td>\n",
       "      <td>576.50</td>\n",
       "      <td>577.20</td>\n",
       "      <td>-0.79</td>\n",
       "      <td>51,168.00</td>\n",
       "      <td>29,566,230.50</td>\n",
       "    </tr>\n",
       "    <tr>\n",
       "      <th>1</th>\n",
       "      <td>2023-09-05</td>\n",
       "      <td>586.00</td>\n",
       "      <td>589.90</td>\n",
       "      <td>580.60</td>\n",
       "      <td>581.80</td>\n",
       "      <td>-0.38</td>\n",
       "      <td>27,803.00</td>\n",
       "      <td>16,202,031.40</td>\n",
       "    </tr>\n",
       "    <tr>\n",
       "      <th>2</th>\n",
       "      <td>2023-09-04</td>\n",
       "      <td>584.00</td>\n",
       "      <td>587.00</td>\n",
       "      <td>575.30</td>\n",
       "      <td>584.00</td>\n",
       "      <td>0.00</td>\n",
       "      <td>66,419.00</td>\n",
       "      <td>38,500,932.10</td>\n",
       "    </tr>\n",
       "    <tr>\n",
       "      <th>3</th>\n",
       "      <td>2023-09-03</td>\n",
       "      <td>587.30</td>\n",
       "      <td>590.00</td>\n",
       "      <td>583.00</td>\n",
       "      <td>584.00</td>\n",
       "      <td>-0.56</td>\n",
       "      <td>46,707.00</td>\n",
       "      <td>27,297,567.60</td>\n",
       "    </tr>\n",
       "    <tr>\n",
       "      <th>4</th>\n",
       "      <td>2023-08-30</td>\n",
       "      <td>596.00</td>\n",
       "      <td>596.00</td>\n",
       "      <td>586.20</td>\n",
       "      <td>587.30</td>\n",
       "      <td>-0.46</td>\n",
       "      <td>51,037.00</td>\n",
       "      <td>30,052,229.30</td>\n",
       "    </tr>\n",
       "  </tbody>\n",
       "</table>\n",
       "</div>"
      ],
      "text/plain": [
       "         Date    Open    High     Low     Ltp % Change        Qty  \\\n",
       "0  2023-09-07  585.00  585.00  576.50  577.20    -0.79  51,168.00   \n",
       "1  2023-09-05  586.00  589.90  580.60  581.80    -0.38  27,803.00   \n",
       "2  2023-09-04  584.00  587.00  575.30  584.00     0.00  66,419.00   \n",
       "3  2023-09-03  587.30  590.00  583.00  584.00    -0.56  46,707.00   \n",
       "4  2023-08-30  596.00  596.00  586.20  587.30    -0.46  51,037.00   \n",
       "\n",
       "        Turnover  \n",
       "0  29,566,230.50  \n",
       "1  16,202,031.40  \n",
       "2  38,500,932.10  \n",
       "3  27,297,567.60  \n",
       "4  30,052,229.30  "
      ]
     },
     "execution_count": 30,
     "metadata": {},
     "output_type": "execute_result"
    }
   ],
   "source": [
    "nabil_df.head()"
   ]
  },
  {
   "cell_type": "code",
   "execution_count": 31,
   "id": "57213240-4e66-49dc-afc1-14e6dbd291aa",
   "metadata": {},
   "outputs": [
    {
     "name": "stdout",
     "output_type": "stream",
     "text": [
      "<class 'pandas.core.frame.DataFrame'>\n",
      "RangeIndex: 2845 entries, 0 to 2844\n",
      "Data columns (total 8 columns):\n",
      " #   Column    Non-Null Count  Dtype \n",
      "---  ------    --------------  ----- \n",
      " 0   Date      2845 non-null   object\n",
      " 1   Open      2845 non-null   object\n",
      " 2   High      2845 non-null   object\n",
      " 3   Low       2845 non-null   object\n",
      " 4   Ltp       2845 non-null   object\n",
      " 5   % Change  2845 non-null   object\n",
      " 6   Qty       2845 non-null   object\n",
      " 7   Turnover  2845 non-null   object\n",
      "dtypes: object(8)\n",
      "memory usage: 177.9+ KB\n"
     ]
    }
   ],
   "source": [
    "nabil_df.info()"
   ]
  },
  {
   "cell_type": "code",
   "execution_count": 32,
   "id": "ed9f7f4c-7748-4ed6-87f9-ec67ae902dd6",
   "metadata": {},
   "outputs": [
    {
     "data": {
      "text/plain": [
       "Date        0\n",
       "Open        0\n",
       "High        0\n",
       "Low         0\n",
       "Ltp         0\n",
       "% Change    0\n",
       "Qty         0\n",
       "Turnover    0\n",
       "dtype: int64"
      ]
     },
     "execution_count": 32,
     "metadata": {},
     "output_type": "execute_result"
    }
   ],
   "source": [
    "nabil_df.isnull().sum()"
   ]
  },
  {
   "cell_type": "code",
   "execution_count": 33,
   "id": "2d50d155-80cc-4453-ba3d-50bd156e424a",
   "metadata": {},
   "outputs": [],
   "source": [
    "nabil_df['Date'] = pd.to_datetime(nabil_df['Date'])"
   ]
  },
  {
   "cell_type": "code",
   "execution_count": 34,
   "id": "78fbead6-ed2e-4be5-b1e1-15a52896faa3",
   "metadata": {},
   "outputs": [],
   "source": [
    "# columns with comma in numerical values\n",
    "cols_comma_values = ['Open', 'High', 'Low', 'Ltp', 'Qty', 'Turnover']\n",
    "\n",
    "for col in cols_comma_values:\n",
    "    # Remove commas and convert the column to float data type\n",
    "    nabil_df[col] = nabil_df[col].apply(lambda x: x.replace(\",\", \"\"))\n",
    "    nabil_df[col] = nabil_df[col].astype('float64')"
   ]
  },
  {
   "cell_type": "code",
   "execution_count": 35,
   "id": "9c7be673-78c0-430e-8495-130e4e665935",
   "metadata": {},
   "outputs": [],
   "source": [
    "nabil_df['% Change'] = nabil_df['% Change'].astype('float64')"
   ]
  },
  {
   "cell_type": "code",
   "execution_count": 36,
   "id": "57e69f7c-a0e2-4e7d-812b-4025278b534e",
   "metadata": {},
   "outputs": [
    {
     "name": "stdout",
     "output_type": "stream",
     "text": [
      "<class 'pandas.core.frame.DataFrame'>\n",
      "RangeIndex: 2845 entries, 0 to 2844\n",
      "Data columns (total 8 columns):\n",
      " #   Column    Non-Null Count  Dtype         \n",
      "---  ------    --------------  -----         \n",
      " 0   Date      2845 non-null   datetime64[ns]\n",
      " 1   Open      2845 non-null   float64       \n",
      " 2   High      2845 non-null   float64       \n",
      " 3   Low       2845 non-null   float64       \n",
      " 4   Ltp       2845 non-null   float64       \n",
      " 5   % Change  2845 non-null   float64       \n",
      " 6   Qty       2845 non-null   float64       \n",
      " 7   Turnover  2845 non-null   float64       \n",
      "dtypes: datetime64[ns](1), float64(7)\n",
      "memory usage: 177.9 KB\n"
     ]
    }
   ],
   "source": [
    "nabil_df.info()"
   ]
  },
  {
   "cell_type": "code",
   "execution_count": 64,
   "id": "1563efcb-de6f-4729-8001-3d5afa4802f3",
   "metadata": {},
   "outputs": [],
   "source": [
    "# Export DataFrame to csv file\n",
    "nabil_df.to_csv(\"Stock Price History/NABIL Stock Price History.csv\", index = False)"
   ]
  },
  {
   "cell_type": "markdown",
   "id": "cca5a444-306b-4b81-b5ca-da235e446c1e",
   "metadata": {},
   "source": [
    "## 3. Prabhu Life Insurance Limited ( PLI )"
   ]
  },
  {
   "cell_type": "code",
   "execution_count": 6,
   "id": "3d8c37fe-4a32-4f21-bd82-16a979f49995",
   "metadata": {},
   "outputs": [],
   "source": [
    "# Define the url to scrape price history data from\n",
    "url = \"https://www.sharesansar.com/company/pli\"\n",
    "\n",
    "# Call the scrape_price_history function to fetch the data\n",
    "prabhu_life_price_history = scrape_price_history(url)"
   ]
  },
  {
   "cell_type": "code",
   "execution_count": 7,
   "id": "bd2e9536-bb72-4492-8584-fc9cf488961a",
   "metadata": {},
   "outputs": [],
   "source": [
    "# Create a DataFrame to store the scraped price history data\n",
    "prabhu_life_df = pd.DataFrame({\n",
    "    \"Date\" : prabhu_life_price_history[0],\n",
    "    \"Open\" : prabhu_life_price_history[1],\n",
    "    \"High\" : prabhu_life_price_history[2],\n",
    "    \"Low\" : prabhu_life_price_history[3],\n",
    "    \"Ltp\" : prabhu_life_price_history[4],\n",
    "    \"% Change\" : prabhu_life_price_history[5],\n",
    "    \"Qty\" : prabhu_life_price_history[6],\n",
    "    \"Turnover\" : prabhu_life_price_history[7]\n",
    "})"
   ]
  },
  {
   "cell_type": "code",
   "execution_count": 37,
   "id": "e2df1bdd-b6b5-47f0-8eac-44d4cf92e3ff",
   "metadata": {},
   "outputs": [
    {
     "data": {
      "text/plain": [
       "(499, 8)"
      ]
     },
     "execution_count": 37,
     "metadata": {},
     "output_type": "execute_result"
    }
   ],
   "source": [
    "prabhu_life_df.shape"
   ]
  },
  {
   "cell_type": "code",
   "execution_count": 38,
   "id": "d00e66d0-712f-4dce-ac26-ed6ac511dda5",
   "metadata": {},
   "outputs": [
    {
     "data": {
      "text/html": [
       "<div>\n",
       "<style scoped>\n",
       "    .dataframe tbody tr th:only-of-type {\n",
       "        vertical-align: middle;\n",
       "    }\n",
       "\n",
       "    .dataframe tbody tr th {\n",
       "        vertical-align: top;\n",
       "    }\n",
       "\n",
       "    .dataframe thead th {\n",
       "        text-align: right;\n",
       "    }\n",
       "</style>\n",
       "<table border=\"1\" class=\"dataframe\">\n",
       "  <thead>\n",
       "    <tr style=\"text-align: right;\">\n",
       "      <th></th>\n",
       "      <th>Date</th>\n",
       "      <th>Open</th>\n",
       "      <th>High</th>\n",
       "      <th>Low</th>\n",
       "      <th>Ltp</th>\n",
       "      <th>% Change</th>\n",
       "      <th>Qty</th>\n",
       "      <th>Turnover</th>\n",
       "    </tr>\n",
       "  </thead>\n",
       "  <tbody>\n",
       "    <tr>\n",
       "      <th>0</th>\n",
       "      <td>2023-07-13</td>\n",
       "      <td>609.90</td>\n",
       "      <td>611.80</td>\n",
       "      <td>586.20</td>\n",
       "      <td>587.00</td>\n",
       "      <td>-2.17</td>\n",
       "      <td>28,431.00</td>\n",
       "      <td>16,938,180.70</td>\n",
       "    </tr>\n",
       "    <tr>\n",
       "      <th>1</th>\n",
       "      <td>2023-07-12</td>\n",
       "      <td>590.10</td>\n",
       "      <td>610.00</td>\n",
       "      <td>590.10</td>\n",
       "      <td>600.00</td>\n",
       "      <td>0.00</td>\n",
       "      <td>18,558.00</td>\n",
       "      <td>11,186,860.90</td>\n",
       "    </tr>\n",
       "    <tr>\n",
       "      <th>2</th>\n",
       "      <td>2023-07-11</td>\n",
       "      <td>600.00</td>\n",
       "      <td>607.00</td>\n",
       "      <td>594.90</td>\n",
       "      <td>600.00</td>\n",
       "      <td>-1.15</td>\n",
       "      <td>17,562.00</td>\n",
       "      <td>10,544,867.00</td>\n",
       "    </tr>\n",
       "    <tr>\n",
       "      <th>3</th>\n",
       "      <td>2023-07-10</td>\n",
       "      <td>615.00</td>\n",
       "      <td>626.00</td>\n",
       "      <td>602.80</td>\n",
       "      <td>607.00</td>\n",
       "      <td>-1.14</td>\n",
       "      <td>17,257.00</td>\n",
       "      <td>10,591,216.40</td>\n",
       "    </tr>\n",
       "    <tr>\n",
       "      <th>4</th>\n",
       "      <td>2023-07-09</td>\n",
       "      <td>590.00</td>\n",
       "      <td>619.90</td>\n",
       "      <td>590.00</td>\n",
       "      <td>614.00</td>\n",
       "      <td>2.85</td>\n",
       "      <td>16,717.00</td>\n",
       "      <td>10,203,472.80</td>\n",
       "    </tr>\n",
       "  </tbody>\n",
       "</table>\n",
       "</div>"
      ],
      "text/plain": [
       "         Date    Open    High     Low     Ltp % Change        Qty  \\\n",
       "0  2023-07-13  609.90  611.80  586.20  587.00    -2.17  28,431.00   \n",
       "1  2023-07-12  590.10  610.00  590.10  600.00     0.00  18,558.00   \n",
       "2  2023-07-11  600.00  607.00  594.90  600.00    -1.15  17,562.00   \n",
       "3  2023-07-10  615.00  626.00  602.80  607.00    -1.14  17,257.00   \n",
       "4  2023-07-09  590.00  619.90  590.00  614.00     2.85  16,717.00   \n",
       "\n",
       "        Turnover  \n",
       "0  16,938,180.70  \n",
       "1  11,186,860.90  \n",
       "2  10,544,867.00  \n",
       "3  10,591,216.40  \n",
       "4  10,203,472.80  "
      ]
     },
     "execution_count": 38,
     "metadata": {},
     "output_type": "execute_result"
    }
   ],
   "source": [
    "prabhu_life_df.head()"
   ]
  },
  {
   "cell_type": "code",
   "execution_count": 39,
   "id": "ecbf80a5-e09c-48f5-88ba-383aadea0a53",
   "metadata": {},
   "outputs": [
    {
     "name": "stdout",
     "output_type": "stream",
     "text": [
      "<class 'pandas.core.frame.DataFrame'>\n",
      "RangeIndex: 499 entries, 0 to 498\n",
      "Data columns (total 8 columns):\n",
      " #   Column    Non-Null Count  Dtype \n",
      "---  ------    --------------  ----- \n",
      " 0   Date      499 non-null    object\n",
      " 1   Open      499 non-null    object\n",
      " 2   High      499 non-null    object\n",
      " 3   Low       499 non-null    object\n",
      " 4   Ltp       499 non-null    object\n",
      " 5   % Change  499 non-null    object\n",
      " 6   Qty       499 non-null    object\n",
      " 7   Turnover  499 non-null    object\n",
      "dtypes: object(8)\n",
      "memory usage: 31.3+ KB\n"
     ]
    }
   ],
   "source": [
    "prabhu_life_df.info()"
   ]
  },
  {
   "cell_type": "code",
   "execution_count": 40,
   "id": "45e18b46-74e8-4e6e-973e-1663aa5a884b",
   "metadata": {},
   "outputs": [],
   "source": [
    "prabhu_life_df['Date'] = pd.to_datetime(prabhu_life_df['Date'])"
   ]
  },
  {
   "cell_type": "code",
   "execution_count": 41,
   "id": "5df8cda0-5fe7-4551-a6a4-907e18a71ee3",
   "metadata": {},
   "outputs": [],
   "source": [
    "# columns with comma in numerical values\n",
    "cols_comma_values = ['Open', 'High', 'Low', 'Ltp', 'Qty', 'Turnover']\n",
    "\n",
    "for col in cols_comma_values:\n",
    "    # Remove commas and convert the column to float data type\n",
    "    prabhu_life_df[col] = prabhu_life_df[col].apply(lambda x: x.replace(\",\", \"\"))\n",
    "    prabhu_life_df[col] = prabhu_life_df[col].astype('float64')"
   ]
  },
  {
   "cell_type": "code",
   "execution_count": 42,
   "id": "a78b1d0e-b55e-4dba-bfbc-47a2a8d8675e",
   "metadata": {},
   "outputs": [],
   "source": [
    "prabhu_life_df['% Change'] = prabhu_life_df['% Change'].astype('float64')"
   ]
  },
  {
   "cell_type": "code",
   "execution_count": 43,
   "id": "d26bdd83-ddcf-4c87-a499-f1e5a5e4549b",
   "metadata": {},
   "outputs": [
    {
     "data": {
      "text/html": [
       "<div>\n",
       "<style scoped>\n",
       "    .dataframe tbody tr th:only-of-type {\n",
       "        vertical-align: middle;\n",
       "    }\n",
       "\n",
       "    .dataframe tbody tr th {\n",
       "        vertical-align: top;\n",
       "    }\n",
       "\n",
       "    .dataframe thead th {\n",
       "        text-align: right;\n",
       "    }\n",
       "</style>\n",
       "<table border=\"1\" class=\"dataframe\">\n",
       "  <thead>\n",
       "    <tr style=\"text-align: right;\">\n",
       "      <th></th>\n",
       "      <th>Date</th>\n",
       "      <th>Open</th>\n",
       "      <th>High</th>\n",
       "      <th>Low</th>\n",
       "      <th>Ltp</th>\n",
       "      <th>% Change</th>\n",
       "      <th>Qty</th>\n",
       "      <th>Turnover</th>\n",
       "    </tr>\n",
       "  </thead>\n",
       "  <tbody>\n",
       "    <tr>\n",
       "      <th>0</th>\n",
       "      <td>2023-07-13</td>\n",
       "      <td>609.9</td>\n",
       "      <td>611.8</td>\n",
       "      <td>586.2</td>\n",
       "      <td>587.0</td>\n",
       "      <td>-2.17</td>\n",
       "      <td>28431.0</td>\n",
       "      <td>16938180.7</td>\n",
       "    </tr>\n",
       "    <tr>\n",
       "      <th>1</th>\n",
       "      <td>2023-07-12</td>\n",
       "      <td>590.1</td>\n",
       "      <td>610.0</td>\n",
       "      <td>590.1</td>\n",
       "      <td>600.0</td>\n",
       "      <td>0.00</td>\n",
       "      <td>18558.0</td>\n",
       "      <td>11186860.9</td>\n",
       "    </tr>\n",
       "    <tr>\n",
       "      <th>2</th>\n",
       "      <td>2023-07-11</td>\n",
       "      <td>600.0</td>\n",
       "      <td>607.0</td>\n",
       "      <td>594.9</td>\n",
       "      <td>600.0</td>\n",
       "      <td>-1.15</td>\n",
       "      <td>17562.0</td>\n",
       "      <td>10544867.0</td>\n",
       "    </tr>\n",
       "    <tr>\n",
       "      <th>3</th>\n",
       "      <td>2023-07-10</td>\n",
       "      <td>615.0</td>\n",
       "      <td>626.0</td>\n",
       "      <td>602.8</td>\n",
       "      <td>607.0</td>\n",
       "      <td>-1.14</td>\n",
       "      <td>17257.0</td>\n",
       "      <td>10591216.4</td>\n",
       "    </tr>\n",
       "    <tr>\n",
       "      <th>4</th>\n",
       "      <td>2023-07-09</td>\n",
       "      <td>590.0</td>\n",
       "      <td>619.9</td>\n",
       "      <td>590.0</td>\n",
       "      <td>614.0</td>\n",
       "      <td>2.85</td>\n",
       "      <td>16717.0</td>\n",
       "      <td>10203472.8</td>\n",
       "    </tr>\n",
       "  </tbody>\n",
       "</table>\n",
       "</div>"
      ],
      "text/plain": [
       "        Date   Open   High    Low    Ltp  % Change      Qty    Turnover\n",
       "0 2023-07-13  609.9  611.8  586.2  587.0     -2.17  28431.0  16938180.7\n",
       "1 2023-07-12  590.1  610.0  590.1  600.0      0.00  18558.0  11186860.9\n",
       "2 2023-07-11  600.0  607.0  594.9  600.0     -1.15  17562.0  10544867.0\n",
       "3 2023-07-10  615.0  626.0  602.8  607.0     -1.14  17257.0  10591216.4\n",
       "4 2023-07-09  590.0  619.9  590.0  614.0      2.85  16717.0  10203472.8"
      ]
     },
     "execution_count": 43,
     "metadata": {},
     "output_type": "execute_result"
    }
   ],
   "source": [
    "prabhu_life_df.head()"
   ]
  },
  {
   "cell_type": "code",
   "execution_count": 44,
   "id": "8e6ad43f-73cb-4927-baa3-93c8f9472701",
   "metadata": {},
   "outputs": [
    {
     "name": "stdout",
     "output_type": "stream",
     "text": [
      "<class 'pandas.core.frame.DataFrame'>\n",
      "RangeIndex: 499 entries, 0 to 498\n",
      "Data columns (total 8 columns):\n",
      " #   Column    Non-Null Count  Dtype         \n",
      "---  ------    --------------  -----         \n",
      " 0   Date      499 non-null    datetime64[ns]\n",
      " 1   Open      499 non-null    float64       \n",
      " 2   High      499 non-null    float64       \n",
      " 3   Low       499 non-null    float64       \n",
      " 4   Ltp       499 non-null    float64       \n",
      " 5   % Change  499 non-null    float64       \n",
      " 6   Qty       499 non-null    float64       \n",
      " 7   Turnover  499 non-null    float64       \n",
      "dtypes: datetime64[ns](1), float64(7)\n",
      "memory usage: 31.3 KB\n"
     ]
    }
   ],
   "source": [
    "prabhu_life_df.info()"
   ]
  },
  {
   "cell_type": "code",
   "execution_count": 65,
   "id": "c250e4cf-ac33-4794-aa3d-c49ceeac3395",
   "metadata": {},
   "outputs": [],
   "source": [
    "# Export DataFrame to csv file\n",
    "prabhu_life_df.to_csv(\"Stock Price History/PLI Stock Price History.csv\", index = False)"
   ]
  },
  {
   "cell_type": "markdown",
   "id": "02953d51-4e1e-4be5-a65b-009ac1f6cc63",
   "metadata": {},
   "source": [
    "## 4. Shivam Cements Limited ( SHIVM )"
   ]
  },
  {
   "cell_type": "code",
   "execution_count": 8,
   "id": "9762bb17-857f-40fc-b48b-e2d2f39a08c0",
   "metadata": {},
   "outputs": [],
   "source": [
    "# Define the url to scrape price history data from\n",
    "url = \"https://www.sharesansar.com/company/shivm\"\n",
    "\n",
    "# Call the scrape_price_history function to fetch the data\n",
    "shivam_price_history = scrape_price_history(url)"
   ]
  },
  {
   "cell_type": "code",
   "execution_count": 9,
   "id": "30296db1-9241-4366-b01e-15ff481c3ad0",
   "metadata": {},
   "outputs": [],
   "source": [
    "# Create a DataFrame to store the scraped price history data\n",
    "shivam_df = pd.DataFrame({\n",
    "    \"Date\" : shivam_price_history[0],\n",
    "    \"Open\" : shivam_price_history[1],\n",
    "    \"High\" : shivam_price_history[2],\n",
    "    \"Low\" : shivam_price_history[3],\n",
    "    \"Ltp\" : shivam_price_history[4],\n",
    "    \"% Change\" : shivam_price_history[5],\n",
    "    \"Qty\" : shivam_price_history[6],\n",
    "    \"Turnover\" : shivam_price_history[7]\n",
    "})"
   ]
  },
  {
   "cell_type": "code",
   "execution_count": 45,
   "id": "a74e1f4a-c470-42fb-8e46-ae543cf49f1f",
   "metadata": {},
   "outputs": [
    {
     "data": {
      "text/plain": [
       "(1019, 8)"
      ]
     },
     "execution_count": 45,
     "metadata": {},
     "output_type": "execute_result"
    }
   ],
   "source": [
    "shivam_df.shape"
   ]
  },
  {
   "cell_type": "code",
   "execution_count": 46,
   "id": "a83a3b91-d85b-4367-8543-e9314efc4e4a",
   "metadata": {},
   "outputs": [
    {
     "data": {
      "text/html": [
       "<div>\n",
       "<style scoped>\n",
       "    .dataframe tbody tr th:only-of-type {\n",
       "        vertical-align: middle;\n",
       "    }\n",
       "\n",
       "    .dataframe tbody tr th {\n",
       "        vertical-align: top;\n",
       "    }\n",
       "\n",
       "    .dataframe thead th {\n",
       "        text-align: right;\n",
       "    }\n",
       "</style>\n",
       "<table border=\"1\" class=\"dataframe\">\n",
       "  <thead>\n",
       "    <tr style=\"text-align: right;\">\n",
       "      <th></th>\n",
       "      <th>Date</th>\n",
       "      <th>Open</th>\n",
       "      <th>High</th>\n",
       "      <th>Low</th>\n",
       "      <th>Ltp</th>\n",
       "      <th>% Change</th>\n",
       "      <th>Qty</th>\n",
       "      <th>Turnover</th>\n",
       "    </tr>\n",
       "  </thead>\n",
       "  <tbody>\n",
       "    <tr>\n",
       "      <th>0</th>\n",
       "      <td>2023-09-07</td>\n",
       "      <td>493.70</td>\n",
       "      <td>503.00</td>\n",
       "      <td>483.40</td>\n",
       "      <td>485.00</td>\n",
       "      <td>-2.41</td>\n",
       "      <td>77,324.00</td>\n",
       "      <td>37,781,720.10</td>\n",
       "    </tr>\n",
       "    <tr>\n",
       "      <th>1</th>\n",
       "      <td>2023-09-05</td>\n",
       "      <td>507.00</td>\n",
       "      <td>507.00</td>\n",
       "      <td>496.00</td>\n",
       "      <td>497.00</td>\n",
       "      <td>-1.19</td>\n",
       "      <td>36,282.00</td>\n",
       "      <td>18,133,269.50</td>\n",
       "    </tr>\n",
       "    <tr>\n",
       "      <th>2</th>\n",
       "      <td>2023-09-04</td>\n",
       "      <td>503.00</td>\n",
       "      <td>509.90</td>\n",
       "      <td>490.00</td>\n",
       "      <td>503.00</td>\n",
       "      <td>1.00</td>\n",
       "      <td>84,031.00</td>\n",
       "      <td>41,959,034.20</td>\n",
       "    </tr>\n",
       "    <tr>\n",
       "      <th>3</th>\n",
       "      <td>2023-09-03</td>\n",
       "      <td>508.00</td>\n",
       "      <td>512.90</td>\n",
       "      <td>497.00</td>\n",
       "      <td>498.00</td>\n",
       "      <td>-1.97</td>\n",
       "      <td>57,536.00</td>\n",
       "      <td>28,923,034.10</td>\n",
       "    </tr>\n",
       "    <tr>\n",
       "      <th>4</th>\n",
       "      <td>2023-08-30</td>\n",
       "      <td>510.00</td>\n",
       "      <td>518.00</td>\n",
       "      <td>506.50</td>\n",
       "      <td>508.00</td>\n",
       "      <td>-0.39</td>\n",
       "      <td>51,987.00</td>\n",
       "      <td>26,492,571.90</td>\n",
       "    </tr>\n",
       "  </tbody>\n",
       "</table>\n",
       "</div>"
      ],
      "text/plain": [
       "         Date    Open    High     Low     Ltp % Change        Qty  \\\n",
       "0  2023-09-07  493.70  503.00  483.40  485.00    -2.41  77,324.00   \n",
       "1  2023-09-05  507.00  507.00  496.00  497.00    -1.19  36,282.00   \n",
       "2  2023-09-04  503.00  509.90  490.00  503.00     1.00  84,031.00   \n",
       "3  2023-09-03  508.00  512.90  497.00  498.00    -1.97  57,536.00   \n",
       "4  2023-08-30  510.00  518.00  506.50  508.00    -0.39  51,987.00   \n",
       "\n",
       "        Turnover  \n",
       "0  37,781,720.10  \n",
       "1  18,133,269.50  \n",
       "2  41,959,034.20  \n",
       "3  28,923,034.10  \n",
       "4  26,492,571.90  "
      ]
     },
     "execution_count": 46,
     "metadata": {},
     "output_type": "execute_result"
    }
   ],
   "source": [
    "shivam_df.head()"
   ]
  },
  {
   "cell_type": "code",
   "execution_count": 47,
   "id": "ec750f38-df4e-49f8-bb72-7485262b3e8a",
   "metadata": {},
   "outputs": [
    {
     "name": "stdout",
     "output_type": "stream",
     "text": [
      "<class 'pandas.core.frame.DataFrame'>\n",
      "RangeIndex: 1019 entries, 0 to 1018\n",
      "Data columns (total 8 columns):\n",
      " #   Column    Non-Null Count  Dtype \n",
      "---  ------    --------------  ----- \n",
      " 0   Date      1019 non-null   object\n",
      " 1   Open      1019 non-null   object\n",
      " 2   High      1019 non-null   object\n",
      " 3   Low       1019 non-null   object\n",
      " 4   Ltp       1019 non-null   object\n",
      " 5   % Change  1019 non-null   object\n",
      " 6   Qty       1019 non-null   object\n",
      " 7   Turnover  1019 non-null   object\n",
      "dtypes: object(8)\n",
      "memory usage: 63.8+ KB\n"
     ]
    }
   ],
   "source": [
    "shivam_df.info()"
   ]
  },
  {
   "cell_type": "code",
   "execution_count": 48,
   "id": "5812c810-9c16-48d5-8aee-22a7bc7234ee",
   "metadata": {},
   "outputs": [
    {
     "data": {
      "text/plain": [
       "Date        0\n",
       "Open        0\n",
       "High        0\n",
       "Low         0\n",
       "Ltp         0\n",
       "% Change    0\n",
       "Qty         0\n",
       "Turnover    0\n",
       "dtype: int64"
      ]
     },
     "execution_count": 48,
     "metadata": {},
     "output_type": "execute_result"
    }
   ],
   "source": [
    "shivam_df.isnull().sum()"
   ]
  },
  {
   "cell_type": "code",
   "execution_count": 49,
   "id": "962e7591-3689-4f0d-9bd7-056cade5a92d",
   "metadata": {},
   "outputs": [],
   "source": [
    "shivam_df['Date'] = pd.to_datetime(shivam_df['Date'])"
   ]
  },
  {
   "cell_type": "code",
   "execution_count": 50,
   "id": "d699d9ab-50ce-4067-990e-9df5b959c68f",
   "metadata": {},
   "outputs": [],
   "source": [
    "# columns with comma in numerical values\n",
    "cols_comma_values = ['Open', 'High', 'Low', 'Ltp', 'Qty', 'Turnover']\n",
    "\n",
    "for col in cols_comma_values:\n",
    "    # Remove commas and convert the column to float data type\n",
    "    shivam_df[col] = shivam_df[col].apply(lambda x: x.replace(\",\", \"\"))\n",
    "    shivam_df[col] = shivam_df[col].astype('float64')"
   ]
  },
  {
   "cell_type": "code",
   "execution_count": 51,
   "id": "db53b39b-613b-4bbe-b082-0f8a1ca40552",
   "metadata": {},
   "outputs": [],
   "source": [
    "shivam_df['% Change'] = shivam_df['% Change'].astype('float64')"
   ]
  },
  {
   "cell_type": "code",
   "execution_count": 52,
   "id": "eb459f0c-4286-4638-b0c2-850ef22facc2",
   "metadata": {},
   "outputs": [
    {
     "data": {
      "text/html": [
       "<div>\n",
       "<style scoped>\n",
       "    .dataframe tbody tr th:only-of-type {\n",
       "        vertical-align: middle;\n",
       "    }\n",
       "\n",
       "    .dataframe tbody tr th {\n",
       "        vertical-align: top;\n",
       "    }\n",
       "\n",
       "    .dataframe thead th {\n",
       "        text-align: right;\n",
       "    }\n",
       "</style>\n",
       "<table border=\"1\" class=\"dataframe\">\n",
       "  <thead>\n",
       "    <tr style=\"text-align: right;\">\n",
       "      <th></th>\n",
       "      <th>Date</th>\n",
       "      <th>Open</th>\n",
       "      <th>High</th>\n",
       "      <th>Low</th>\n",
       "      <th>Ltp</th>\n",
       "      <th>% Change</th>\n",
       "      <th>Qty</th>\n",
       "      <th>Turnover</th>\n",
       "    </tr>\n",
       "  </thead>\n",
       "  <tbody>\n",
       "    <tr>\n",
       "      <th>0</th>\n",
       "      <td>2023-09-07</td>\n",
       "      <td>493.7</td>\n",
       "      <td>503.0</td>\n",
       "      <td>483.4</td>\n",
       "      <td>485.0</td>\n",
       "      <td>-2.41</td>\n",
       "      <td>77324.0</td>\n",
       "      <td>37781720.1</td>\n",
       "    </tr>\n",
       "    <tr>\n",
       "      <th>1</th>\n",
       "      <td>2023-09-05</td>\n",
       "      <td>507.0</td>\n",
       "      <td>507.0</td>\n",
       "      <td>496.0</td>\n",
       "      <td>497.0</td>\n",
       "      <td>-1.19</td>\n",
       "      <td>36282.0</td>\n",
       "      <td>18133269.5</td>\n",
       "    </tr>\n",
       "    <tr>\n",
       "      <th>2</th>\n",
       "      <td>2023-09-04</td>\n",
       "      <td>503.0</td>\n",
       "      <td>509.9</td>\n",
       "      <td>490.0</td>\n",
       "      <td>503.0</td>\n",
       "      <td>1.00</td>\n",
       "      <td>84031.0</td>\n",
       "      <td>41959034.2</td>\n",
       "    </tr>\n",
       "    <tr>\n",
       "      <th>3</th>\n",
       "      <td>2023-09-03</td>\n",
       "      <td>508.0</td>\n",
       "      <td>512.9</td>\n",
       "      <td>497.0</td>\n",
       "      <td>498.0</td>\n",
       "      <td>-1.97</td>\n",
       "      <td>57536.0</td>\n",
       "      <td>28923034.1</td>\n",
       "    </tr>\n",
       "    <tr>\n",
       "      <th>4</th>\n",
       "      <td>2023-08-30</td>\n",
       "      <td>510.0</td>\n",
       "      <td>518.0</td>\n",
       "      <td>506.5</td>\n",
       "      <td>508.0</td>\n",
       "      <td>-0.39</td>\n",
       "      <td>51987.0</td>\n",
       "      <td>26492571.9</td>\n",
       "    </tr>\n",
       "  </tbody>\n",
       "</table>\n",
       "</div>"
      ],
      "text/plain": [
       "        Date   Open   High    Low    Ltp  % Change      Qty    Turnover\n",
       "0 2023-09-07  493.7  503.0  483.4  485.0     -2.41  77324.0  37781720.1\n",
       "1 2023-09-05  507.0  507.0  496.0  497.0     -1.19  36282.0  18133269.5\n",
       "2 2023-09-04  503.0  509.9  490.0  503.0      1.00  84031.0  41959034.2\n",
       "3 2023-09-03  508.0  512.9  497.0  498.0     -1.97  57536.0  28923034.1\n",
       "4 2023-08-30  510.0  518.0  506.5  508.0     -0.39  51987.0  26492571.9"
      ]
     },
     "execution_count": 52,
     "metadata": {},
     "output_type": "execute_result"
    }
   ],
   "source": [
    "shivam_df.head()"
   ]
  },
  {
   "cell_type": "code",
   "execution_count": 53,
   "id": "46531856-b890-4ab9-aeef-7e4ac084f528",
   "metadata": {},
   "outputs": [
    {
     "name": "stdout",
     "output_type": "stream",
     "text": [
      "<class 'pandas.core.frame.DataFrame'>\n",
      "RangeIndex: 1019 entries, 0 to 1018\n",
      "Data columns (total 8 columns):\n",
      " #   Column    Non-Null Count  Dtype         \n",
      "---  ------    --------------  -----         \n",
      " 0   Date      1019 non-null   datetime64[ns]\n",
      " 1   Open      1019 non-null   float64       \n",
      " 2   High      1019 non-null   float64       \n",
      " 3   Low       1019 non-null   float64       \n",
      " 4   Ltp       1019 non-null   float64       \n",
      " 5   % Change  1019 non-null   float64       \n",
      " 6   Qty       1019 non-null   float64       \n",
      " 7   Turnover  1019 non-null   float64       \n",
      "dtypes: datetime64[ns](1), float64(7)\n",
      "memory usage: 63.8 KB\n"
     ]
    }
   ],
   "source": [
    "shivam_df.info()"
   ]
  },
  {
   "cell_type": "code",
   "execution_count": 66,
   "id": "efa1291e-3444-46f4-b9ea-cb065fe485f3",
   "metadata": {},
   "outputs": [],
   "source": [
    "# Export DataFrame to csv file\n",
    "shivam_df.to_csv(\"Stock Price History/SHIVM Stock Price History.csv\", index = False)"
   ]
  },
  {
   "cell_type": "markdown",
   "id": "b5fc1591-cc8d-4575-8175-a2457bf4e39c",
   "metadata": {},
   "source": [
    "## 5. National Hydro Power Company Limited ( NHPC )"
   ]
  },
  {
   "cell_type": "code",
   "execution_count": 10,
   "id": "83ed5e92-8a9f-4d2e-854f-e2722682f1b9",
   "metadata": {},
   "outputs": [],
   "source": [
    "# Define the url to scrape price history data from\n",
    "url = \"https://www.sharesansar.com/company/nhpc\"\n",
    "\n",
    "# Call the scrape_price_history function to fetch the data\n",
    "national_price_history = scrape_price_history(url)"
   ]
  },
  {
   "cell_type": "code",
   "execution_count": 11,
   "id": "bb9f1c72-b64a-4bb1-abb6-e1c422864a75",
   "metadata": {},
   "outputs": [],
   "source": [
    "# Create a DataFrame to store the scraped price history data\n",
    "national_df = pd.DataFrame({\n",
    "    \"Date\" : national_price_history[0],\n",
    "    \"Open\" : national_price_history[1],\n",
    "    \"High\" : national_price_history[2],\n",
    "    \"Low\" : national_price_history[3],\n",
    "    \"Ltp\" : national_price_history[4],\n",
    "    \"% Change\" : national_price_history[5],\n",
    "    \"Qty\" : national_price_history[6],\n",
    "    \"Turnover\" : national_price_history[7]\n",
    "})"
   ]
  },
  {
   "cell_type": "code",
   "execution_count": 54,
   "id": "634f4797-de91-4890-88dc-3fd64d3a0171",
   "metadata": {},
   "outputs": [
    {
     "data": {
      "text/plain": [
       "(2557, 8)"
      ]
     },
     "execution_count": 54,
     "metadata": {},
     "output_type": "execute_result"
    }
   ],
   "source": [
    "national_df.shape"
   ]
  },
  {
   "cell_type": "code",
   "execution_count": 55,
   "id": "321ada11-75bf-49f7-ab09-5975207e433e",
   "metadata": {},
   "outputs": [
    {
     "data": {
      "text/html": [
       "<div>\n",
       "<style scoped>\n",
       "    .dataframe tbody tr th:only-of-type {\n",
       "        vertical-align: middle;\n",
       "    }\n",
       "\n",
       "    .dataframe tbody tr th {\n",
       "        vertical-align: top;\n",
       "    }\n",
       "\n",
       "    .dataframe thead th {\n",
       "        text-align: right;\n",
       "    }\n",
       "</style>\n",
       "<table border=\"1\" class=\"dataframe\">\n",
       "  <thead>\n",
       "    <tr style=\"text-align: right;\">\n",
       "      <th></th>\n",
       "      <th>Date</th>\n",
       "      <th>Open</th>\n",
       "      <th>High</th>\n",
       "      <th>Low</th>\n",
       "      <th>Ltp</th>\n",
       "      <th>% Change</th>\n",
       "      <th>Qty</th>\n",
       "      <th>Turnover</th>\n",
       "    </tr>\n",
       "  </thead>\n",
       "  <tbody>\n",
       "    <tr>\n",
       "      <th>0</th>\n",
       "      <td>2023-09-07</td>\n",
       "      <td>138.20</td>\n",
       "      <td>140.00</td>\n",
       "      <td>137.00</td>\n",
       "      <td>137.10</td>\n",
       "      <td>-2.07</td>\n",
       "      <td>24,688.00</td>\n",
       "      <td>3,409,217.30</td>\n",
       "    </tr>\n",
       "    <tr>\n",
       "      <th>1</th>\n",
       "      <td>2023-09-05</td>\n",
       "      <td>144.00</td>\n",
       "      <td>144.00</td>\n",
       "      <td>140.00</td>\n",
       "      <td>140.00</td>\n",
       "      <td>-2.78</td>\n",
       "      <td>34,843.00</td>\n",
       "      <td>4,919,761.30</td>\n",
       "    </tr>\n",
       "    <tr>\n",
       "      <th>2</th>\n",
       "      <td>2023-09-04</td>\n",
       "      <td>145.50</td>\n",
       "      <td>146.50</td>\n",
       "      <td>142.70</td>\n",
       "      <td>144.00</td>\n",
       "      <td>-1.03</td>\n",
       "      <td>21,315.00</td>\n",
       "      <td>3,065,983.60</td>\n",
       "    </tr>\n",
       "    <tr>\n",
       "      <th>3</th>\n",
       "      <td>2023-09-03</td>\n",
       "      <td>148.00</td>\n",
       "      <td>148.00</td>\n",
       "      <td>144.00</td>\n",
       "      <td>145.50</td>\n",
       "      <td>-0.68</td>\n",
       "      <td>17,124.00</td>\n",
       "      <td>2,481,711.00</td>\n",
       "    </tr>\n",
       "    <tr>\n",
       "      <th>4</th>\n",
       "      <td>2023-08-30</td>\n",
       "      <td>148.00</td>\n",
       "      <td>149.00</td>\n",
       "      <td>145.80</td>\n",
       "      <td>146.50</td>\n",
       "      <td>0.07</td>\n",
       "      <td>12,184.00</td>\n",
       "      <td>1,793,512.90</td>\n",
       "    </tr>\n",
       "  </tbody>\n",
       "</table>\n",
       "</div>"
      ],
      "text/plain": [
       "         Date    Open    High     Low     Ltp % Change        Qty  \\\n",
       "0  2023-09-07  138.20  140.00  137.00  137.10    -2.07  24,688.00   \n",
       "1  2023-09-05  144.00  144.00  140.00  140.00    -2.78  34,843.00   \n",
       "2  2023-09-04  145.50  146.50  142.70  144.00    -1.03  21,315.00   \n",
       "3  2023-09-03  148.00  148.00  144.00  145.50    -0.68  17,124.00   \n",
       "4  2023-08-30  148.00  149.00  145.80  146.50     0.07  12,184.00   \n",
       "\n",
       "       Turnover  \n",
       "0  3,409,217.30  \n",
       "1  4,919,761.30  \n",
       "2  3,065,983.60  \n",
       "3  2,481,711.00  \n",
       "4  1,793,512.90  "
      ]
     },
     "execution_count": 55,
     "metadata": {},
     "output_type": "execute_result"
    }
   ],
   "source": [
    "national_df.head()"
   ]
  },
  {
   "cell_type": "code",
   "execution_count": 56,
   "id": "b47e3204-f4c9-495b-8d38-86e08bfc204f",
   "metadata": {},
   "outputs": [
    {
     "name": "stdout",
     "output_type": "stream",
     "text": [
      "<class 'pandas.core.frame.DataFrame'>\n",
      "RangeIndex: 2557 entries, 0 to 2556\n",
      "Data columns (total 8 columns):\n",
      " #   Column    Non-Null Count  Dtype \n",
      "---  ------    --------------  ----- \n",
      " 0   Date      2557 non-null   object\n",
      " 1   Open      2557 non-null   object\n",
      " 2   High      2557 non-null   object\n",
      " 3   Low       2557 non-null   object\n",
      " 4   Ltp       2557 non-null   object\n",
      " 5   % Change  2557 non-null   object\n",
      " 6   Qty       2557 non-null   object\n",
      " 7   Turnover  2557 non-null   object\n",
      "dtypes: object(8)\n",
      "memory usage: 159.9+ KB\n"
     ]
    }
   ],
   "source": [
    "national_df.info()"
   ]
  },
  {
   "cell_type": "code",
   "execution_count": 57,
   "id": "ca3e6e89-2b7b-4613-9280-4f5328900635",
   "metadata": {},
   "outputs": [],
   "source": [
    "national_df['Date'] = pd.to_datetime(national_df['Date'])"
   ]
  },
  {
   "cell_type": "code",
   "execution_count": 58,
   "id": "9908d362-8703-48e1-bdd4-b1880c6e2fe0",
   "metadata": {},
   "outputs": [],
   "source": [
    "# columns with comma in numerical values\n",
    "cols_comma_values = ['Open', 'High', 'Low', 'Ltp', 'Qty', 'Turnover']\n",
    "\n",
    "for col in cols_comma_values:\n",
    "    # Remove commas and convert the column to float data type\n",
    "    national_df[col] = national_df[col].apply(lambda x: x.replace(\",\", \"\"))\n",
    "    national_df[col] = national_df[col].astype('float64')"
   ]
  },
  {
   "cell_type": "code",
   "execution_count": 59,
   "id": "abe1b423-474b-4ca9-b3c7-17385acbb894",
   "metadata": {},
   "outputs": [],
   "source": [
    "national_df['% Change'] = national_df['% Change'].astype('float64')"
   ]
  },
  {
   "cell_type": "code",
   "execution_count": 60,
   "id": "87023d38-b584-4fe0-9ba8-58272879fb0b",
   "metadata": {},
   "outputs": [
    {
     "data": {
      "text/html": [
       "<div>\n",
       "<style scoped>\n",
       "    .dataframe tbody tr th:only-of-type {\n",
       "        vertical-align: middle;\n",
       "    }\n",
       "\n",
       "    .dataframe tbody tr th {\n",
       "        vertical-align: top;\n",
       "    }\n",
       "\n",
       "    .dataframe thead th {\n",
       "        text-align: right;\n",
       "    }\n",
       "</style>\n",
       "<table border=\"1\" class=\"dataframe\">\n",
       "  <thead>\n",
       "    <tr style=\"text-align: right;\">\n",
       "      <th></th>\n",
       "      <th>Date</th>\n",
       "      <th>Open</th>\n",
       "      <th>High</th>\n",
       "      <th>Low</th>\n",
       "      <th>Ltp</th>\n",
       "      <th>% Change</th>\n",
       "      <th>Qty</th>\n",
       "      <th>Turnover</th>\n",
       "    </tr>\n",
       "  </thead>\n",
       "  <tbody>\n",
       "    <tr>\n",
       "      <th>0</th>\n",
       "      <td>2023-09-07</td>\n",
       "      <td>138.2</td>\n",
       "      <td>140.0</td>\n",
       "      <td>137.0</td>\n",
       "      <td>137.1</td>\n",
       "      <td>-2.07</td>\n",
       "      <td>24688.0</td>\n",
       "      <td>3409217.3</td>\n",
       "    </tr>\n",
       "    <tr>\n",
       "      <th>1</th>\n",
       "      <td>2023-09-05</td>\n",
       "      <td>144.0</td>\n",
       "      <td>144.0</td>\n",
       "      <td>140.0</td>\n",
       "      <td>140.0</td>\n",
       "      <td>-2.78</td>\n",
       "      <td>34843.0</td>\n",
       "      <td>4919761.3</td>\n",
       "    </tr>\n",
       "    <tr>\n",
       "      <th>2</th>\n",
       "      <td>2023-09-04</td>\n",
       "      <td>145.5</td>\n",
       "      <td>146.5</td>\n",
       "      <td>142.7</td>\n",
       "      <td>144.0</td>\n",
       "      <td>-1.03</td>\n",
       "      <td>21315.0</td>\n",
       "      <td>3065983.6</td>\n",
       "    </tr>\n",
       "    <tr>\n",
       "      <th>3</th>\n",
       "      <td>2023-09-03</td>\n",
       "      <td>148.0</td>\n",
       "      <td>148.0</td>\n",
       "      <td>144.0</td>\n",
       "      <td>145.5</td>\n",
       "      <td>-0.68</td>\n",
       "      <td>17124.0</td>\n",
       "      <td>2481711.0</td>\n",
       "    </tr>\n",
       "    <tr>\n",
       "      <th>4</th>\n",
       "      <td>2023-08-30</td>\n",
       "      <td>148.0</td>\n",
       "      <td>149.0</td>\n",
       "      <td>145.8</td>\n",
       "      <td>146.5</td>\n",
       "      <td>0.07</td>\n",
       "      <td>12184.0</td>\n",
       "      <td>1793512.9</td>\n",
       "    </tr>\n",
       "  </tbody>\n",
       "</table>\n",
       "</div>"
      ],
      "text/plain": [
       "        Date   Open   High    Low    Ltp  % Change      Qty   Turnover\n",
       "0 2023-09-07  138.2  140.0  137.0  137.1     -2.07  24688.0  3409217.3\n",
       "1 2023-09-05  144.0  144.0  140.0  140.0     -2.78  34843.0  4919761.3\n",
       "2 2023-09-04  145.5  146.5  142.7  144.0     -1.03  21315.0  3065983.6\n",
       "3 2023-09-03  148.0  148.0  144.0  145.5     -0.68  17124.0  2481711.0\n",
       "4 2023-08-30  148.0  149.0  145.8  146.5      0.07  12184.0  1793512.9"
      ]
     },
     "execution_count": 60,
     "metadata": {},
     "output_type": "execute_result"
    }
   ],
   "source": [
    "national_df.head()"
   ]
  },
  {
   "cell_type": "code",
   "execution_count": 61,
   "id": "9d11c3b4-462f-4c43-b69c-37cb0f1aeb88",
   "metadata": {},
   "outputs": [
    {
     "name": "stdout",
     "output_type": "stream",
     "text": [
      "<class 'pandas.core.frame.DataFrame'>\n",
      "RangeIndex: 2557 entries, 0 to 2556\n",
      "Data columns (total 8 columns):\n",
      " #   Column    Non-Null Count  Dtype         \n",
      "---  ------    --------------  -----         \n",
      " 0   Date      2557 non-null   datetime64[ns]\n",
      " 1   Open      2557 non-null   float64       \n",
      " 2   High      2557 non-null   float64       \n",
      " 3   Low       2557 non-null   float64       \n",
      " 4   Ltp       2557 non-null   float64       \n",
      " 5   % Change  2557 non-null   float64       \n",
      " 6   Qty       2557 non-null   float64       \n",
      " 7   Turnover  2557 non-null   float64       \n",
      "dtypes: datetime64[ns](1), float64(7)\n",
      "memory usage: 159.9 KB\n"
     ]
    }
   ],
   "source": [
    "national_df.info()"
   ]
  },
  {
   "cell_type": "code",
   "execution_count": 67,
   "id": "1189ebd3-ef80-45e4-8aba-1e56583fa798",
   "metadata": {},
   "outputs": [],
   "source": [
    "# Export DataFrame to csv file\n",
    "national_df.to_csv(\"Stock Price History/NHPC Stock Price History.csv\", index = False)"
   ]
  }
 ],
 "metadata": {
  "kernelspec": {
   "display_name": "Python 3 (ipykernel)",
   "language": "python",
   "name": "python3"
  },
  "language_info": {
   "codemirror_mode": {
    "name": "ipython",
    "version": 3
   },
   "file_extension": ".py",
   "mimetype": "text/x-python",
   "name": "python",
   "nbconvert_exporter": "python",
   "pygments_lexer": "ipython3",
   "version": "3.11.4"
  }
 },
 "nbformat": 4,
 "nbformat_minor": 5
}
